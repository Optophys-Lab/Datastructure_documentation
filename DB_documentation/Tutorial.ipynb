{
 "cells": [
  {
   "cell_type": "markdown",
   "id": "9bb032b3-6d19-4c6e-8047-a6ca86c53cac",
   "metadata": {},
   "source": [
    "# Welcome to Datastructure tools\n",
    "\n",
    "This toolbox should ease accessing data via python (e.g. to automatize entering data for experiments etc.). \n",
    "Before you run through this tutorial, please follow the instructions on the github on how to install this package."
   ]
  },
  {
   "cell_type": "markdown",
   "id": "08f79212",
   "metadata": {},
   "source": [
    "# if you want to use the virtual environment in jupyter notebooks please follow this tutorial\n",
    "https://medium.com/@nrk25693/how-to-add-your-conda-environment-to-your-jupyter-notebook-in-just-4-steps-abeab8b8d084"
   ]
  },
  {
   "cell_type": "markdown",
   "id": "c67f79ac",
   "metadata": {},
   "source": [
    "# Initial setup:\n",
    "The first time you install the datastructure_tools you will have to run the admin commander and set a few things.\n",
    "\n",
    "1. You will need to set the serveradress to the database server. The server address is preset. \n",
    "We have two different databases on the server: opto_db (for real data) and opto_db_test where you can play around without the possibility of destroying any real data.\n",
    "In the beginning, to familiarize yourself with everything, we advice to use the opto_db_test.\n",
    "\n",
    "2. If the serverpath was not found on initial startup, you have to change the serverpath manually. This can be done under the tab \"user config\". Using the Browse button, just select the folder that leads to the project folder on the server.\n",
    "\n",
    "3. Now you can check if your project is already part of the database. \n",
    "We distinguish between two things: The file server which runs as usual and the database which stores metadata about files on the fileserver.\n",
    "If the project does not exist on the dataserver, you will have to talk to an IT admin of your choice to make a new project folder. Please keep the convention on how to name a project folder in mind (see below).\n",
    "As soon as the project folder is created, it exists on the fileserver, but not yet in the database.\n",
    "For this we switch to the tab Project and add the project to the database. Choose the project you want to add, then add some description that explains what the project is about in a few words. Also add some keywords that we can search for later, like the main brain structures, the species, etc. We can add keywords also later, outside of the admin commander.\n",
    "\n",
    "4. create the experiment folder inside your project manually. \n",
    "You should have all rights to change everything within your specific project file (else, ask an IT admin of your preference). Now simply create an experiment folder inside of that. Please use snake case, because it will lead to the least amount of problems later during programming scripts. An experiment name could e.g. be reversal_learning_ALM_inhibition.\n",
    "\n",
    "5. Next, we will check if all the building blocks for the experiments are there. \n",
    "Building blocks represent common things that are reused between different experiments. One example would be behavior or ephys. We can add the building block and later reuse them between different experiments. The building blocks itself tell the scripts which folders are needed on the file server. \n",
    "By default the folders will be created in 0_raw and 1_preprocessed with the same name. If you want to include the folder in 2_processed aswell, just click the checkmark to modify and then insert the name in raw, preprocessed and processed. Good practice is to keep the name the same, unless there is a good reason to change them between 0_raw, 1_preprocessed and 2_processed.\n",
    "The building blocks should be as general as possible such that we can reuse the same structure over different experiments.\n",
    "To do all this, simply switch over to the tab \"Building blocks\". Check on the right side if any of the building blocks are missing that are needed for your specific experiment and if so, add them on the left side by entering a name, a description and also how the folders are named in raw, preprocessed and processed. Remember that by default only raw and preprocessed will be added using the same name. If you need a processed folder, check the modify checkbar and then insert the needed name into all three columns. If the building blocks have more than one word, snake case would be recommended, e.g. behavior_video.\n",
    "\n",
    "6. Combine building blocks for your specific experimenttemplate.\n",
    "A convention here is that everyone makes a template for his specific experiment unless there already is something they can reuse. A template could be for example spatial_reversal_learning_miniscope. This template would then include behavior (e.g. a file containing the trial by trial result), miniscope (this folder contains the neural activity in the form of miniscope videos) and DAQ (this folder contains the DAQ recordings to bind them together). Another experiment template could e.g. combine that with videorecordings and then also include the behavior_video building block. If the experiment template contains more than one word, snake case would be recommended, e.g. reversal_learning\n",
    "\n",
    "7. To make your life easier, next create a user config under the tab \"user config\". Choose your name (if it is not in the list, create your username under the tab \"user\"), choose your prefered project (the one you are usually working on), the preferred experiment, aswell as the experiment_template you usually use. On the right side, you can choose the folders that your experimental data usually sits in to make your life easier later, if you use the file commander to copy files. \n",
    "All of these will be saved in a specific file called user_config.json locally on your computer. So if you setup the datastructure on multiple computers, follow the server config and user config steps for each setup\n",
    "Press create user config and voila, you are done with your initial setup! Congratulations!\n",
    "\n",
    "\n",
    "#todo: how to disable testmode"
   ]
  },
  {
   "cell_type": "markdown",
   "id": "5bf5dad8",
   "metadata": {},
   "source": [
    "# Conventions to name your project folder:\n",
    "As people start to create new project folders, we realized that we need some clearer naming convention for this and the sooner we implement that, the better (later it will be a lot more work than now).\n",
    "The idea of the organization was to distinguish between a project as an overarching name and different experiments within the project.\n",
    "To keep the folder organized, it would be great to name the project the following way: \\<year>_\\<descriptive name or grant>. Inside of those project folders, one can then keep different experiments.\n",
    "E.g. a project could be 2014_ERC and an experiment within that could be Betaburst_reinforcement.\n",
    "Not ideal names would be 2024_Behavior as many people are doing behavior and neither the goal nor the grant are obvious.\n",
    "Also problematic is something like 2023_ALM, as many people can work on that structure and it is not directly understandable what the goal of this project is.\n",
    "Further it would be ideal to keep the project folder sparse, i.e. to only create multiple project folders if they are really distinguishable in a sense that they include completely different experiments/ pursue different goals."
   ]
  },
  {
   "cell_type": "markdown",
   "id": "1347ffab-1135-4b1f-ba74-2cbf061268f2",
   "metadata": {},
   "source": [
    "# open the GUIs via python\n",
    "\n",
    "To open the guis (commanders) via python you have two possibilities: \n",
    "1. import the specific commander and start the gui via the start_gui() function\n",
    "2. within your conda environment run python AdminCommander.py in the datastructure_tools path\n",
    "\n",
    "Below you can find example usages for commanders using the first possibility"
   ]
  },
  {
   "cell_type": "code",
   "execution_count": 1,
   "id": "3d244f39",
   "metadata": {
    "scrolled": true,
    "tags": []
   },
   "outputs": [
    {
     "name": "stderr",
     "output_type": "stream",
     "text": [
      "[2024-02-16 15:12:40,261][INFO]: Connecting optouser@10.4.26.150:3306\n",
      "[2024-02-16 15:12:41,149][INFO]: Connected optouser@10.4.26.150:3306\n"
     ]
    }
   ],
   "source": [
    "from datastructure_tools import AdminCommander\n",
    "#to run the admin commander use this command\n",
    "AdminCommander.start_gui()"
   ]
  },
  {
   "cell_type": "code",
   "execution_count": null,
   "id": "5d8667d6",
   "metadata": {},
   "outputs": [],
   "source": [
    "from datastructure_tools import AnimalCommander\n",
    "# to add animals, run the following GUI\n",
    "AnimalCommander.start_gui()"
   ]
  },
  {
   "cell_type": "code",
   "execution_count": null,
   "id": "aa2acfe7",
   "metadata": {},
   "outputs": [],
   "source": [
    "from datastructure_tools import SessionCommander\n",
    "# lets add a session! Just run the following GUI for that:\n",
    "dt.SessionCommander.start_gui()"
   ]
  },
  {
   "cell_type": "code",
   "execution_count": null,
   "id": "2637635d",
   "metadata": {},
   "outputs": [],
   "source": [
    "from datastructure_tools import FileCommander\n",
    "# to open the file commander, run the following GUI\n",
    "dt.FileCommander.start_gui()\n",
    "#inside of this GUI add all the files you want to copy. If you are done, proceed to press add and then run. \n",
    "# The filecommander will the copy all the files and give you an output on the lower left side when it was successful. "
   ]
  },
  {
   "cell_type": "code",
   "execution_count": null,
   "id": "1f6b4f27",
   "metadata": {},
   "outputs": [],
   "source": [
    "from datastructure_tools import EquipmentCommander\n",
    "# you can add electrodes using the equipment commander\n",
    "dt.EquipmentCommander.start_gui()"
   ]
  },
  {
   "cell_type": "code",
   "execution_count": null,
   "id": "658fecd5",
   "metadata": {},
   "outputs": [],
   "source": [
    "from datastructure_tools import VirusCommander\n",
    "#to add viruses, use the virus commander\n",
    "dt.VirusCommander.start_gui()"
   ]
  },
  {
   "cell_type": "code",
   "execution_count": null,
   "id": "3dc47c56",
   "metadata": {},
   "outputs": [],
   "source": [
    "from datastructure_tools import SurgeryCommander\n",
    "# in case you want to insert a surgery, simply run the surgery commander\n",
    "dt.SurgeryCommander.start_gui()"
   ]
  },
  {
   "cell_type": "code",
   "execution_count": null,
   "id": "59b73525",
   "metadata": {},
   "outputs": [],
   "source": [
    "from datastructure_tools import WeightCommander\n",
    "# For adding weights, we included the weight commander:\n",
    "dt.WeightCommander.start_gui()"
   ]
  },
  {
   "cell_type": "markdown",
   "id": "44ea2a77",
   "metadata": {},
   "source": [
    "# Writing your own code accessing the database\n",
    "\n",
    "Here comes the fun part!\n",
    "It makes sens to familiarize yourself with the datajoint tutorial, from here: https://datajoint.com/docs/core/datajoint-python/0.14/\n",
    "If you plan to code using the database, we provide you with an easy access point. The DatabaseAccess() class. \n",
    "The following section contains a few commands to get you started to program with the new database."
   ]
  },
  {
   "cell_type": "code",
   "execution_count": 1,
   "id": "15650f22-4f3c-486f-93df-077e8b3bb754",
   "metadata": {
    "tags": []
   },
   "outputs": [],
   "source": [
    "# we start with importing the DataBaseAccess module from which we can instanciate the class below\n",
    "from datastructure_tools import DataBaseAccess"
   ]
  },
  {
   "cell_type": "code",
   "execution_count": 3,
   "id": "bb1304a3",
   "metadata": {
    "tags": []
   },
   "outputs": [
    {
     "name": "stderr",
     "output_type": "stream",
     "text": [
      "[2024-02-16 15:55:10,358][INFO]: Connecting optouser@10.4.26.150:3306\n",
      "[2024-02-16 15:55:10,956][INFO]: Connected optouser@10.4.26.150:3306\n"
     ]
    },
    {
     "name": "stdout",
     "output_type": "stream",
     "text": [
      "the server is 10.4.26.150\n",
      "the database name is opto_db\n"
     ]
    }
   ],
   "source": [
    "# Now we instanciate the class\n",
    "DB =DataBaseAccess.DataBaseAccess()\n",
    "# With this command, we now have loaded the DataBaseAccess class. If everything goes correct,\n",
    "# the output should be an info that you are now connected as user @ dbip\n",
    "\n",
    "# using the DB class, you can also check e.g. the server that you are connected to\n",
    "print('the server is {}'.format(DB.cfg['SQLserver_cfg']['host']))\n",
    "# and the database name\n",
    "print('the database name is {}'.format(DB.database_name))"
   ]
  },
  {
   "cell_type": "markdown",
   "id": "a68508ef-62bd-4f69-b0ac-8ba16396217d",
   "metadata": {},
   "source": [
    "If the following output is seen:\n",
    "No valid root directory found (from ['/mnt/diester/archive/projects', 'O:\\\\archive\\\\projects', '/mnt/server/archive/projects', '/media/server/archive/projects'])\n",
    "Connection to server is not possible!!!\n",
    "That means that \n",
    "1. you are not connected to the file server\n",
    "2. that you are not connected to the DB server\n",
    "\n",
    "The first point is usually just a problem of where the file server is mounted (in Windows it should be O:\\ to work.\n",
    "The second problem could arise if you are not in the university network or if the DB server is down. Check that you are in the university network. If you are and the problem still arises, check the Admin Commander and reconnect to the DB server.\n",
    "If the problem still persists, talk to us!"
   ]
  },
  {
   "cell_type": "markdown",
   "id": "e3582b2d-41b3-41fe-8636-da3926580ec9",
   "metadata": {
    "tags": []
   },
   "source": [
    "# Accessing Info from the database\n",
    "\n",
    "To access info from the database, its enough to call the specific table. "
   ]
  },
  {
   "cell_type": "code",
   "execution_count": 4,
   "id": "188415c5",
   "metadata": {
    "tags": []
   },
   "outputs": [
    {
     "data": {
      "text/html": [
       "\n",
       "    \n",
       "    <style type=\"text/css\">\n",
       "        .Table{\n",
       "            border-collapse:collapse;\n",
       "        }\n",
       "        .Table th{\n",
       "            background: #A0A0A0; color: #ffffff; padding:4px; border:#f0e0e0 1px solid;\n",
       "            font-weight: normal; font-family: monospace; font-size: 100%;\n",
       "        }\n",
       "        .Table td{\n",
       "            padding:4px; border:#f0e0e0 1px solid; font-size:100%;\n",
       "        }\n",
       "        .Table tr:nth-child(odd){\n",
       "            background: #ffffff;\n",
       "            color: #000000;\n",
       "        }\n",
       "        .Table tr:nth-child(even){\n",
       "            background: #f3f1ff;\n",
       "            color: #000000;\n",
       "        }\n",
       "        /* Tooltip container */\n",
       "        .djtooltip {\n",
       "        }\n",
       "        /* Tooltip text */\n",
       "        .djtooltip .djtooltiptext {\n",
       "            visibility: hidden;\n",
       "            width: 120px;\n",
       "            background-color: black;\n",
       "            color: #fff;\n",
       "            text-align: center;\n",
       "            padding: 5px 0;\n",
       "            border-radius: 6px;\n",
       "            /* Position the tooltip text - see examples below! */\n",
       "            position: absolute;\n",
       "            z-index: 1;\n",
       "        }\n",
       "        #primary {\n",
       "            font-weight: bold;\n",
       "            color: black;\n",
       "        }\n",
       "        #nonprimary {\n",
       "            font-weight: normal;\n",
       "            color: white;\n",
       "        }\n",
       "\n",
       "        /* Show the tooltip text when you mouse over the tooltip container */\n",
       "        .djtooltip:hover .djtooltiptext {\n",
       "            visibility: visible;\n",
       "        }\n",
       "    </style>\n",
       "    \n",
       "    <b>All sessions with corresponding infos.</b>\n",
       "        <div style=\"max-height:1000px;max-width:1500px;overflow:auto;\">\n",
       "        <table border=\"1\" class=\"Table\">\n",
       "            <thead> <tr style=\"text-align: right;\"> <th> <div class=\"djtooltip\">\n",
       "                            <p id=\"primary\">session_id</p>\n",
       "                            <span class=\"djtooltiptext\">yyyymmdd_m0042_wt_hhmm</span>\n",
       "                        </div></th><th><div class=\"djtooltip\">\n",
       "                            <p id=\"nonprimary\">animal_id</p>\n",
       "                            <span class=\"djtooltiptext\">unique animal id</span>\n",
       "                        </div></th><th><div class=\"djtooltip\">\n",
       "                            <p id=\"nonprimary\">session_datetime</p>\n",
       "                            <span class=\"djtooltiptext\">datetime of the session</span>\n",
       "                        </div></th><th><div class=\"djtooltip\">\n",
       "                            <p id=\"nonprimary\">session_dir</p>\n",
       "                            <span class=\"djtooltiptext\">Path to the data directory for a session</span>\n",
       "                        </div></th><th><div class=\"djtooltip\">\n",
       "                            <p id=\"nonprimary\">session_note</p>\n",
       "                            <span class=\"djtooltiptext\">some notes about the session</span>\n",
       "                        </div> </th> </tr> </thead>\n",
       "            <tbody> <tr> <td>20230126_m1018_wt_1752</td>\n",
       "<td>m1018_wt</td>\n",
       "<td>2023-01-26 17:52:38</td>\n",
       "<td>2023_intercontext/PICAST/data/0_raw/20230126_m1018_wt_1752</td>\n",
       "<td></td></tr><tr><td>20230126_m1019_wt_1853</td>\n",
       "<td>m1019_wt</td>\n",
       "<td>2023-01-26 18:53:06</td>\n",
       "<td>2023_intercontext/PICAST/data/0_raw/20230126_m1019_wt_1853</td>\n",
       "<td></td></tr><tr><td>20230126_m1020_wt_1942</td>\n",
       "<td>m1020_wt</td>\n",
       "<td>2023-01-26 19:42:42</td>\n",
       "<td>2023_intercontext/PICAST/data/0_raw/20230126_m1020_wt_1942</td>\n",
       "<td></td></tr><tr><td>20230126_m1020_wt_2038</td>\n",
       "<td>m1020_wt</td>\n",
       "<td>2023-01-26 20:38:41</td>\n",
       "<td>2023_intercontext/PICAST/data/0_raw/20230126_m1020_wt_2038</td>\n",
       "<td></td></tr><tr><td>20230127_m1018_wt_1053</td>\n",
       "<td>m1018_wt</td>\n",
       "<td>2023-01-27 10:53:39</td>\n",
       "<td>2023_intercontext/PICAST/data/0_raw/20230127_m1018_wt_1053</td>\n",
       "<td></td></tr><tr><td>20230127_m1018_wt_1349</td>\n",
       "<td>m1018_wt</td>\n",
       "<td>2023-01-27 13:49:56</td>\n",
       "<td>2023_intercontext/PICAST/data/0_raw/20230127_m1018_wt_1349</td>\n",
       "<td></td></tr><tr><td>20230127_m1019_wt_1133</td>\n",
       "<td>m1019_wt</td>\n",
       "<td>2023-01-27 11:33:07</td>\n",
       "<td>2023_intercontext/PICAST/data/0_raw/20230127_m1019_wt_1133</td>\n",
       "<td></td></tr><tr><td>20230127_m1019_wt_1500</td>\n",
       "<td>m1019_wt</td>\n",
       "<td>2023-01-27 15:00:54</td>\n",
       "<td>2023_intercontext/PICAST/data/0_raw/20230127_m1019_wt_1500</td>\n",
       "<td></td></tr><tr><td>20230127_m1020_wt_1240</td>\n",
       "<td>m1020_wt</td>\n",
       "<td>2023-01-27 12:40:33</td>\n",
       "<td>2023_intercontext/PICAST/data/0_raw/20230127_m1020_wt_1240</td>\n",
       "<td></td></tr><tr><td>20230127_m1020_wt_1629</td>\n",
       "<td>m1020_wt</td>\n",
       "<td>2023-01-27 16:29:31</td>\n",
       "<td>2023_intercontext/PICAST/data/0_raw/20230127_m1020_wt_1629</td>\n",
       "<td></td></tr><tr><td>20230130_m1018_wt_1641</td>\n",
       "<td>m1018_wt</td>\n",
       "<td>2023-01-30 16:41:02</td>\n",
       "<td>2023_intercontext/PICAST/data/0_raw/20230130_m1018_wt_1641</td>\n",
       "<td></td></tr><tr><td>20230130_m1019_wt_1736</td>\n",
       "<td>m1019_wt</td>\n",
       "<td>2023-01-30 17:36:57</td>\n",
       "<td>2023_intercontext/PICAST/data/0_raw/20230130_m1019_wt_1736</td>\n",
       "<td></td> </tr> </tbody>\n",
       "        </table>\n",
       "        <p>...</p>\n",
       "        <p>Total: 1650</p></div>\n",
       "        "
      ],
      "text/plain": [
       "*session_id    animal_id     session_dateti session_dir    session_note  \n",
       "+------------+ +-----------+ +------------+ +------------+ +------------+\n",
       "20230126_m1018 m1018_wt      2023-01-26 17: 2023_intercont               \n",
       "20230126_m1019 m1019_wt      2023-01-26 18: 2023_intercont               \n",
       "20230126_m1020 m1020_wt      2023-01-26 19: 2023_intercont               \n",
       "20230126_m1020 m1020_wt      2023-01-26 20: 2023_intercont               \n",
       "20230127_m1018 m1018_wt      2023-01-27 10: 2023_intercont               \n",
       "20230127_m1018 m1018_wt      2023-01-27 13: 2023_intercont               \n",
       "20230127_m1019 m1019_wt      2023-01-27 11: 2023_intercont               \n",
       "20230127_m1019 m1019_wt      2023-01-27 15: 2023_intercont               \n",
       "20230127_m1020 m1020_wt      2023-01-27 12: 2023_intercont               \n",
       "20230127_m1020 m1020_wt      2023-01-27 16: 2023_intercont               \n",
       "20230130_m1018 m1018_wt      2023-01-30 16: 2023_intercont               \n",
       "20230130_m1019 m1019_wt      2023-01-30 17: 2023_intercont               \n",
       "   ...\n",
       " (Total: 1650)"
      ]
     },
     "execution_count": 4,
     "metadata": {},
     "output_type": "execute_result"
    }
   ],
   "source": [
    "#now we can access info from the database.\n",
    "DB.Session"
   ]
  },
  {
   "cell_type": "code",
   "execution_count": 5,
   "id": "21529a4b",
   "metadata": {},
   "outputs": [
    {
     "data": {
      "text/plain": [
       "{'session_id': '20230204_r0001_wt_1222',\n",
       " 'animal_id': 'r0001_wt',\n",
       " 'session_datetime': datetime.datetime(2023, 2, 4, 12, 22, 58),\n",
       " 'session_dir': 'NewProject/Final Experiment/data/0_raw/20230204_r0001_wt_1222',\n",
       " 'session_note': 'Test Session'}"
      ]
     },
     "execution_count": 5,
     "metadata": {},
     "output_type": "execute_result"
    }
   ],
   "source": [
    "#you can see now a table of every session that has been added, with all the information that is attached to it. \n",
    "# to fetch the information in a way to work with them, we can fetch them as a dictionary using the fetch command.\n",
    "\n",
    "session_dict_list = DB.Session.fetch(as_dict = True)\n",
    "\n",
    "#The information is fetched as a list of dictionaries. E.g. the first session in our database can be accessed \n",
    "# by indexing this\n",
    "session_dict_list[0]"
   ]
  },
  {
   "cell_type": "code",
   "execution_count": 6,
   "id": "ff048c74",
   "metadata": {},
   "outputs": [
    {
     "data": {
      "text/plain": [
       "'20230204_r0001_wt_1222'"
      ]
     },
     "execution_count": 6,
     "metadata": {},
     "output_type": "execute_result"
    }
   ],
   "source": [
    "# to get the session id, we can run the following:\n",
    "session_dict_list[0]['session_id']"
   ]
  },
  {
   "cell_type": "code",
   "execution_count": 7,
   "id": "0b4f7971",
   "metadata": {},
   "outputs": [
    {
     "name": "stdout",
     "output_type": "stream",
     "text": [
      "/mnt/server/archive/projects/datastructure_test/NewProject/Final Experiment/data/0_raw/20230204_r0001_wt_1222\n"
     ]
    }
   ],
   "source": [
    "# the database access class provides all kinds of useful functions. For example it gives you a function to get the \n",
    "# session path of a certain session via the get_session_directory function\n",
    "print(DB.get_session_directory(session_dict_list[0]))"
   ]
  },
  {
   "cell_type": "code",
   "execution_count": 8,
   "id": "cf231b25",
   "metadata": {},
   "outputs": [
    {
     "data": {
      "text/plain": [
       "PosixPath('/mnt/server/archive/projects/datastructure_test/NewProject/Final Experiment/data/0_raw/20230204_r0001_wt_1222/0_raw/ephys')"
      ]
     },
     "execution_count": 8,
     "metadata": {},
     "output_type": "execute_result"
    }
   ],
   "source": [
    "#as you can see, this prints the full folder based on the server path that works on your specific computer.\n",
    "# this provides an easy way to access data within a session. It will be outputted as a Path object, such that \n",
    "# you can easily merge subfolders to it regardless of your operating system (for more info see Path from pathlib)\n",
    "DB.get_session_directory(session_dict_list[0]) / '0_raw' / 'ephys'"
   ]
  },
  {
   "cell_type": "code",
   "execution_count": 9,
   "id": "568e5adf",
   "metadata": {},
   "outputs": [
    {
     "data": {
      "text/plain": [
       "[{'session_id': '20230204_r0001_wt_1222',\n",
       "  'animal_id': 'r0001_wt',\n",
       "  'session_datetime': datetime.datetime(2023, 2, 4, 12, 22, 58),\n",
       "  'session_dir': 'NewProject/Final Experiment/data/0_raw/20230204_r0001_wt_1222',\n",
       "  'session_note': 'Test Session'}]"
      ]
     },
     "execution_count": 9,
     "metadata": {},
     "output_type": "execute_result"
    }
   ],
   "source": [
    "# you can also query our results and e.g. get all the sessions done with a particular rat. \n",
    "# We greatly recommend looking at the datajoint tutorial, but here is an example to get you hyped:\n",
    "(DB.Session & (DB.Animal & 'animal_id = \"r0001_wt\"')).fetch(as_dict = True)"
   ]
  },
  {
   "cell_type": "code",
   "execution_count": 10,
   "id": "ed3e9501",
   "metadata": {},
   "outputs": [
    {
     "data": {
      "text/html": [
       "\n",
       "    \n",
       "    <style type=\"text/css\">\n",
       "        .Relation{\n",
       "            border-collapse:collapse;\n",
       "        }\n",
       "        .Relation th{\n",
       "            background: #A0A0A0; color: #ffffff; padding:4px; border:#f0e0e0 1px solid;\n",
       "            font-weight: normal; font-family: monospace; font-size: 100%;\n",
       "        }\n",
       "        .Relation td{\n",
       "            padding:4px; border:#f0e0e0 1px solid; font-size:100%;\n",
       "        }\n",
       "        .Relation tr:nth-child(odd){\n",
       "            background: #ffffff;\n",
       "        }\n",
       "        .Relation tr:nth-child(even){\n",
       "            background: #f3f1ff;\n",
       "        }\n",
       "        /* Tooltip container */\n",
       "        .djtooltip {\n",
       "        }\n",
       "        /* Tooltip text */\n",
       "        .djtooltip .djtooltiptext {\n",
       "            visibility: hidden;\n",
       "            width: 120px;\n",
       "            background-color: black;\n",
       "            color: #fff;\n",
       "            text-align: center;\n",
       "            padding: 5px 0;\n",
       "            border-radius: 6px;\n",
       "            /* Position the tooltip text - see examples below! */\n",
       "            position: absolute;\n",
       "            z-index: 1;\n",
       "        }\n",
       "        #primary {\n",
       "            font-weight: bold;\n",
       "            color: black;\n",
       "        }\n",
       "        #nonprimary {\n",
       "            font-weight: normal;\n",
       "            color: white;\n",
       "        }\n",
       "\n",
       "        /* Show the tooltip text when you mouse over the tooltip container */\n",
       "        .djtooltip:hover .djtooltiptext {\n",
       "            visibility: visible;\n",
       "        }\n",
       "    </style>\n",
       "    \n",
       "    <b>All sessions with corresponding infos.</b>\n",
       "        <div style=\"max-height:1000px;max-width:1500px;overflow:auto;\">\n",
       "        <table border=\"1\" class=\"Relation\">\n",
       "            <thead> <tr style=\"text-align: right;\"> <th> <div class=\"djtooltip\">\n",
       "                            <p id=\"primary\">session_id</p>\n",
       "                            <span class=\"djtooltiptext\">yyyymmdd_m0042_wt_hhmm</span>\n",
       "                        </div></th><th><div class=\"djtooltip\">\n",
       "                            <p id=\"nonprimary\">animal_id</p>\n",
       "                            <span class=\"djtooltiptext\">unique animal id</span>\n",
       "                        </div></th><th><div class=\"djtooltip\">\n",
       "                            <p id=\"nonprimary\">session_datetime</p>\n",
       "                            <span class=\"djtooltiptext\">datetime of the session</span>\n",
       "                        </div></th><th><div class=\"djtooltip\">\n",
       "                            <p id=\"nonprimary\">session_dir</p>\n",
       "                            <span class=\"djtooltiptext\">Path to the data directory for a session</span>\n",
       "                        </div></th><th><div class=\"djtooltip\">\n",
       "                            <p id=\"nonprimary\">session_note</p>\n",
       "                            <span class=\"djtooltiptext\">some notes about the session</span>\n",
       "                        </div> </th> </tr> </thead>\n",
       "            <tbody> <tr> <td>20230204_r0001_wt_1222</td>\n",
       "<td>r0001_wt</td>\n",
       "<td>2023-02-04 12:22:58</td>\n",
       "<td>NewProject/Final Experiment/data/0_raw/20230204_r0001_wt_1222</td>\n",
       "<td>Test Session</td> </tr> </tbody>\n",
       "        </table>\n",
       "        \n",
       "        <p>Total: 1</p></div>\n",
       "        "
      ],
      "text/plain": [
       "*session_id    animal_id     session_dateti session_dir    session_note  \n",
       "+------------+ +-----------+ +------------+ +------------+ +------------+\n",
       "20230204_r0001 r0001_wt      2023-02-04 12: NewProject/Fin Test Session  \n",
       " (Total: 1)"
      ]
     },
     "execution_count": 10,
     "metadata": {},
     "output_type": "execute_result"
    }
   ],
   "source": [
    "#or all the sessions associated with a certain user\n",
    "DB.Session & (DB.User & 'user = \"fs539\"').fetch(as_dict = True)"
   ]
  },
  {
   "cell_type": "code",
   "execution_count": 6,
   "id": "3873c908-0049-4731-876e-3c7eb2fc5141",
   "metadata": {
    "tags": []
   },
   "outputs": [],
   "source": [
    "# There is also a class that simplifies adding sessions from your favorite experiment. \n",
    "# It is part of the utils file\n",
    "from datastructure_tools import utils"
   ]
  },
  {
   "cell_type": "code",
   "execution_count": 7,
   "id": "1845b2fd-177c-41ef-905c-fd235e5e5f35",
   "metadata": {
    "tags": []
   },
   "outputs": [
    {
     "data": {
      "text/plain": [
       "\u001b[1;31mInit signature:\u001b[0m \u001b[0mutils\u001b[0m\u001b[1;33m.\u001b[0m\u001b[0mSessionClass\u001b[0m\u001b[1;33m(\u001b[0m\u001b[0mDB\u001b[0m\u001b[1;33m,\u001b[0m \u001b[0mtest\u001b[0m\u001b[1;33m=\u001b[0m\u001b[1;32mFalse\u001b[0m\u001b[1;33m,\u001b[0m \u001b[1;33m*\u001b[0m\u001b[0margs\u001b[0m\u001b[1;33m,\u001b[0m \u001b[1;33m**\u001b[0m\u001b[0mkwargs\u001b[0m\u001b[1;33m)\u001b[0m\u001b[1;33m\u001b[0m\u001b[1;33m\u001b[0m\u001b[0m\n",
       "\u001b[1;31mDocstring:\u001b[0m     \n",
       "class abstracting all infos about the session\n",
       "can be reused in functions\n",
       "\n",
       "Required inputs:\n",
       "DB -  handle to DataBaseAccess\n",
       "animal_id -> str animal id in DB, will be checked\n",
       "session_datetime\n",
       "session_note -> str can be not provided\n",
       "project -> str project in DB, will be checked\n",
       "user -> str user in DB, will be checked\n",
       "expName -> str experiment name folder\n",
       "experiment_template -> str experiment_type name will be checked\n",
       "\n",
       "how to use:\n",
       "session = SessionClass(self.DB, animal_id=AnimalName2use, session_datetime=session_datetime,\n",
       "                           session_note=self.Session_note.toPlainText(), project=self.Project_combo.currentText(),\n",
       "                           user=self.User_combo.currentText(), expName=self.ExpName_combo.currentText(),\n",
       "                           experiment_template = self.ExpType_combo.currentText(),test = BOOL if a test session)\n",
       "\n",
       "pathcreationSuccess = session.createSession_path() # create Paths on server\n",
       "# TRUE if worked\n",
       "PushSuccess = session.checkInputs() # checks inputs and pushes to DB\n",
       "% TRUE if worked\n",
       "session.weight = float(self.AnimalWeightEdit.text())\n",
       "session.weight_note = self.WeightNoteEdit.text()\n",
       "session.pushWeights()\n",
       "\u001b[1;31mFile:\u001b[0m           d:\\code\\datastructure_tools\\datastructure_tools\\utils.py\n",
       "\u001b[1;31mType:\u001b[0m           type\n",
       "\u001b[1;31mSubclasses:\u001b[0m     "
      ]
     },
     "metadata": {},
     "output_type": "display_data"
    }
   ],
   "source": [
    "#within the utils file we have the session class\n",
    "# in the following documentation, you can see how to use it\n",
    "utils.SessionClass?"
   ]
  },
  {
   "cell_type": "markdown",
   "id": "52c3a772-c181-4994-8bbd-0221a5600ae5",
   "metadata": {},
   "source": [
    "# This tutorial is meant to ease your entry into the datastructure tools.\n",
    "\n",
    "It is meant to become more comprehensive from time to time. Please give me some feedback about what you are missing / what else you would like to see in the tutorial!\n",
    "For now: Happy coding"
   ]
  },
  {
   "cell_type": "markdown",
   "id": "cdd8e308-edd1-496b-848a-d6b0b753046f",
   "metadata": {},
   "source": [
    "## useful but scary functions"
   ]
  },
  {
   "cell_type": "code",
   "execution_count": null,
   "id": "c0a05b39-2f4d-458a-8c8a-7347e6c5dab9",
   "metadata": {},
   "outputs": [],
   "source": [
    "## these lines allow you to rename a session in the database. It fetches the old session, changes the corresponding values, \n",
    "# then continues with renaming the folders on the server (scary), add the new changed session in the database and finally\n",
    "# deletes the old session (scary)\n",
    "\n",
    "# specify session and load session data. also specify new animal\n",
    "# new_animal_id = 'm1309_som'\n",
    "# session_data = (DB.Session & 'animal_id = \"m1307_som\"' & 'session_datetime > \"2023-08-16 12-00\"').fetch1()\n",
    "\n",
    "\n",
    "# old_path = session_data['session_dir']\n",
    "# old_sess_id = session_data['session_id']\n",
    "\n",
    "# #load sub tables\n",
    "# sess_exp = (DB.Session.Experiment & session_data).fetch1()\n",
    "# sess_project = (DB.Session.Project & session_data).fetch1()\n",
    "# sess_root = (DB.Session.Root & session_data).fetch1()\n",
    "# sess_user = (DB.Session.User & session_data).fetch1()\n",
    "\n",
    "# old_animal_id = session_data['animal_id']\n",
    "\n",
    "# #replace all traces of old animal with new animal in the session metadata and name\n",
    "# for key in session_data.keys():\n",
    "#     if isinstance(session_data[key], str):\n",
    "#         session_data[key] = session_data[key].replace(old_animal_id, new_animal_id)\n",
    "\n",
    "# sess_exp['session_id'] = session_data['session_id']\n",
    "# sess_project['session_id'] = session_data['session_id']\n",
    "# sess_root['session_id'] = session_data['session_id']\n",
    "# sess_user['session_id'] = session_data['session_id']\n",
    "\n",
    "# #scary: change file name on server for the corresponding session in raw, preprocessed and processed\n",
    "# import pathlib\n",
    "# #todo: add check if the renaming worked? but if not it should crash here anyway\n",
    "# old_raw = DB.server_path / old_path\n",
    "# new_raw = DB.server_path / session_data['session_dir']\n",
    "# pathlib.Path(old_raw).rename(new_raw)\n",
    "# print(f'renamed {old_raw} to {new_raw}')\n",
    "\n",
    "# old_preprocessed = (DB.server_path / old_path).parent.parent / '1_preprocessed' / old_sess_id\n",
    "# new_preprocessed = (DB.server_path / session_data['session_dir']).parent.parent / '1_preprocessed' / session_data['session_id']\n",
    "# pathlib.Path(old_preprocessed).rename(new_preprocessed)\n",
    "# print(f'renamed {old_preprocessed} to {new_preprocessed}')\n",
    "\n",
    "# old_processed = (DB.server_path / old_path).parent.parent / '2_processed' / old_sess_id\n",
    "# new_processed = (DB.server_path / session_data['session_dir']).parent.parent / '2_processed' / session_data['session_id']\n",
    "# pathlib.Path(old_processed).rename(new_processed)\n",
    "# print(f'renamed {old_processed} to {new_processed}')\n",
    "\n",
    "# # append new session to database - put all the corresponding databases into a list and all the data that is added to the corresponding database\n",
    "# dbs_to_append = [DB.Session, DB.Session.Experiment, DB.Session.Project, DB.Session.Root, DB.Session.User]\n",
    "# data_to_add = [session_data, sess_exp, sess_project, sess_root, sess_user]\n",
    "# for ii, ele in enumerate(data_to_add):\n",
    "#     dbs_to_append[ii].insert1(ele)\n",
    "#     print(f'inserted {ele}')\n",
    "\n",
    "# #check if new session has been added\n",
    "# if len((dbs_to_append[0] & data_to_add[0]).fetch()) == 1:\n",
    "#     print('successfully added, you can delete the old session now')\n",
    "#     #scary: delete old session from db\n",
    "#     to_search = \"session_id = \" + f'\"{old_sess_id}\"'\n",
    "#     for ele in dbs_to_append[::-1]:\n",
    "#         (ele & to_search).delete_quick()\n",
    "# else:\n",
    "#     print('this is too scary to continue. I have renamed everything, but I did not delete anything from db yet.')\n",
    "\n",
    "# #fetch new session just for fun\n",
    "# session_data = (DB.Session & 'animal_id = \"m1309_som\"' & 'session_datetime > \"2023-08-16 12-00\"').fetch1()"
   ]
  },
  {
   "cell_type": "code",
   "execution_count": null,
   "id": "a6babee7",
   "metadata": {},
   "outputs": [],
   "source": [
    "#"
   ]
  }
 ],
 "metadata": {
  "kernelspec": {
   "display_name": "datastructure_tools",
   "language": "python",
   "name": "datastructure_tools"
  },
  "language_info": {
   "codemirror_mode": {
    "name": "ipython",
    "version": 3
   },
   "file_extension": ".py",
   "mimetype": "text/x-python",
   "name": "python",
   "nbconvert_exporter": "python",
   "pygments_lexer": "ipython3",
   "version": "3.12.1"
  }
 },
 "nbformat": 4,
 "nbformat_minor": 5
}
